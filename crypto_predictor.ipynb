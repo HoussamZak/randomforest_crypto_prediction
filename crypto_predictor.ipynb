{
 "cells": [
  {
   "cell_type": "code",
   "execution_count": 1,
   "metadata": {},
   "outputs": [],
   "source": [
    "#-- Modules & Packages\n",
    "\n",
    "import yfinance as yf \n",
    "import pandas as pd \n",
    "import numpy as np \n",
    "import matplotlib.pyplot as plt\n",
    "import python_ta as ta\n",
    "\n",
    "from datetime import datetime\n",
    "from datetime import date\n",
    "from dateutil.relativedelta import relativedelta"
   ]
  },
  {
   "cell_type": "code",
   "execution_count": null,
   "metadata": {},
   "outputs": [],
   "source": [
    "ticker = ['ETH-USD']\n",
    "\n",
    "#-- Collecting 3 years\n",
    "start_date = date.today() + relativedelta(months = - 60)\n",
    "end_date = date.today()\n",
    "\n",
    "#-- 1D ohlcv data collection\n",
    "df_asset = yf.download(ticker, start_date, end_date, interval = '1D')\n"
   ]
  }
 ],
 "metadata": {
  "kernelspec": {
   "display_name": "Python 3",
   "language": "python",
   "name": "python3"
  },
  "language_info": {
   "codemirror_mode": {
    "name": "ipython",
    "version": 3
   },
   "file_extension": ".py",
   "mimetype": "text/x-python",
   "name": "python",
   "nbconvert_exporter": "python",
   "pygments_lexer": "ipython3",
   "version": "3.8.0"
  }
 },
 "nbformat": 4,
 "nbformat_minor": 2
}
