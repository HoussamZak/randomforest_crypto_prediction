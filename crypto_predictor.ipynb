{
 "cells": [
  {
   "cell_type": "code",
   "execution_count": 43,
   "metadata": {},
   "outputs": [
    {
     "name": "stdout",
     "output_type": "stream",
     "text": [
      "Requirement already satisfied: ta in c:\\users\\hp\\appdata\\local\\programs\\python\\python38\\lib\\site-packages (0.10.2)Note: you may need to restart the kernel to use updated packages.\n"
     ]
    },
    {
     "name": "stderr",
     "output_type": "stream",
     "text": [
      "WARNING: Ignoring invalid distribution -rotobuf (c:\\users\\hp\\appdata\\local\\programs\\python\\python38\\lib\\site-packages)\n",
      "WARNING: Ignoring invalid distribution -treamlit (c:\\users\\hp\\appdata\\local\\programs\\python\\python38\\lib\\site-packages)\n",
      "WARNING: Ignoring invalid distribution -rotobuf (c:\\users\\hp\\appdata\\local\\programs\\python\\python38\\lib\\site-packages)\n",
      "WARNING: Ignoring invalid distribution -treamlit (c:\\users\\hp\\appdata\\local\\programs\\python\\python38\\lib\\site-packages)\n",
      "\n",
      "[notice] A new release of pip is available: 23.3.1 -> 24.0\n",
      "[notice] To update, run: python.exe -m pip install --upgrade pip\n"
     ]
    },
    {
     "name": "stdout",
     "output_type": "stream",
     "text": [
      "\n",
      "Requirement already satisfied: numpy in c:\\users\\hp\\appdata\\local\\programs\\python\\python38\\lib\\site-packages (from ta) (1.21.6)\n",
      "Requirement already satisfied: pandas in c:\\users\\hp\\appdata\\local\\programs\\python\\python38\\lib\\site-packages (from ta) (1.4.0)\n",
      "Requirement already satisfied: python-dateutil>=2.8.1 in c:\\users\\hp\\appdata\\local\\programs\\python\\python38\\lib\\site-packages (from pandas->ta) (2.8.2)\n",
      "Requirement already satisfied: pytz>=2020.1 in c:\\users\\hp\\appdata\\local\\programs\\python\\python38\\lib\\site-packages (from pandas->ta) (2022.7)\n",
      "Requirement already satisfied: six>=1.5 in c:\\users\\hp\\appdata\\local\\programs\\python\\python38\\lib\\site-packages (from python-dateutil>=2.8.1->pandas->ta) (1.16.0)\n"
     ]
    }
   ],
   "source": [
    "pip install ta"
   ]
  },
  {
   "cell_type": "code",
   "execution_count": 44,
   "metadata": {},
   "outputs": [],
   "source": [
    "#-- Modules & Packages\n",
    "\n",
    "import yfinance as yf \n",
    "import pandas as pd \n",
    "import numpy as np \n",
    "import matplotlib.pyplot as plt\n",
    "\n",
    "# import python_ta as ta\n",
    "import ta as ta\n",
    "from technical_features_indicators import moving_yngzng_estimator\n",
    "from technical_features_indicators import kaufman_ad_movavg\n",
    "from technical_features_indicators import kama_mkt_regime\n",
    "\n",
    "from datetime import datetime\n",
    "from datetime import date\n",
    "from dateutil.relativedelta import relativedelta"
   ]
  },
  {
   "cell_type": "code",
   "execution_count": 45,
   "metadata": {},
   "outputs": [
    {
     "name": "stdout",
     "output_type": "stream",
     "text": [
      "[*********************100%***********************]  1 of 1 completed\n"
     ]
    },
    {
     "data": {
      "text/html": [
       "<div>\n",
       "<style scoped>\n",
       "    .dataframe tbody tr th:only-of-type {\n",
       "        vertical-align: middle;\n",
       "    }\n",
       "\n",
       "    .dataframe tbody tr th {\n",
       "        vertical-align: top;\n",
       "    }\n",
       "\n",
       "    .dataframe thead th {\n",
       "        text-align: right;\n",
       "    }\n",
       "</style>\n",
       "<table border=\"1\" class=\"dataframe\">\n",
       "  <thead>\n",
       "    <tr style=\"text-align: right;\">\n",
       "      <th></th>\n",
       "      <th>open</th>\n",
       "      <th>high</th>\n",
       "      <th>low</th>\n",
       "      <th>close</th>\n",
       "    </tr>\n",
       "    <tr>\n",
       "      <th>Date</th>\n",
       "      <th></th>\n",
       "      <th></th>\n",
       "      <th></th>\n",
       "      <th></th>\n",
       "    </tr>\n",
       "  </thead>\n",
       "  <tbody>\n",
       "    <tr>\n",
       "      <th>2021-03-31</th>\n",
       "      <td>1846.098267</td>\n",
       "      <td>1947.837769</td>\n",
       "      <td>1793.002197</td>\n",
       "      <td>1918.362061</td>\n",
       "    </tr>\n",
       "    <tr>\n",
       "      <th>2021-04-01</th>\n",
       "      <td>1919.157227</td>\n",
       "      <td>1989.055054</td>\n",
       "      <td>1912.178467</td>\n",
       "      <td>1977.276855</td>\n",
       "    </tr>\n",
       "    <tr>\n",
       "      <th>2021-04-02</th>\n",
       "      <td>1976.932739</td>\n",
       "      <td>2152.451904</td>\n",
       "      <td>1960.678711</td>\n",
       "      <td>2143.225586</td>\n",
       "    </tr>\n",
       "    <tr>\n",
       "      <th>2021-04-03</th>\n",
       "      <td>2142.895996</td>\n",
       "      <td>2144.962402</td>\n",
       "      <td>2028.422485</td>\n",
       "      <td>2028.422485</td>\n",
       "    </tr>\n",
       "    <tr>\n",
       "      <th>2021-04-04</th>\n",
       "      <td>2027.671265</td>\n",
       "      <td>2110.353516</td>\n",
       "      <td>2007.111816</td>\n",
       "      <td>2093.122803</td>\n",
       "    </tr>\n",
       "    <tr>\n",
       "      <th>...</th>\n",
       "      <td>...</td>\n",
       "      <td>...</td>\n",
       "      <td>...</td>\n",
       "      <td>...</td>\n",
       "    </tr>\n",
       "    <tr>\n",
       "      <th>2024-03-26</th>\n",
       "      <td>3591.085205</td>\n",
       "      <td>3678.789795</td>\n",
       "      <td>3545.428711</td>\n",
       "      <td>3587.504883</td>\n",
       "    </tr>\n",
       "    <tr>\n",
       "      <th>2024-03-27</th>\n",
       "      <td>3587.313721</td>\n",
       "      <td>3664.383057</td>\n",
       "      <td>3460.393555</td>\n",
       "      <td>3500.115234</td>\n",
       "    </tr>\n",
       "    <tr>\n",
       "      <th>2024-03-28</th>\n",
       "      <td>3500.216064</td>\n",
       "      <td>3609.705322</td>\n",
       "      <td>3465.332275</td>\n",
       "      <td>3561.293945</td>\n",
       "    </tr>\n",
       "    <tr>\n",
       "      <th>2024-03-29</th>\n",
       "      <td>3561.011719</td>\n",
       "      <td>3583.701416</td>\n",
       "      <td>3475.725586</td>\n",
       "      <td>3511.806152</td>\n",
       "    </tr>\n",
       "    <tr>\n",
       "      <th>2024-03-30</th>\n",
       "      <td>3511.827637</td>\n",
       "      <td>3566.084473</td>\n",
       "      <td>3489.902100</td>\n",
       "      <td>3507.944336</td>\n",
       "    </tr>\n",
       "  </tbody>\n",
       "</table>\n",
       "<p>1096 rows × 4 columns</p>\n",
       "</div>"
      ],
      "text/plain": [
       "                   open         high          low        close\n",
       "Date                                                          \n",
       "2021-03-31  1846.098267  1947.837769  1793.002197  1918.362061\n",
       "2021-04-01  1919.157227  1989.055054  1912.178467  1977.276855\n",
       "2021-04-02  1976.932739  2152.451904  1960.678711  2143.225586\n",
       "2021-04-03  2142.895996  2144.962402  2028.422485  2028.422485\n",
       "2021-04-04  2027.671265  2110.353516  2007.111816  2093.122803\n",
       "...                 ...          ...          ...          ...\n",
       "2024-03-26  3591.085205  3678.789795  3545.428711  3587.504883\n",
       "2024-03-27  3587.313721  3664.383057  3460.393555  3500.115234\n",
       "2024-03-28  3500.216064  3609.705322  3465.332275  3561.293945\n",
       "2024-03-29  3561.011719  3583.701416  3475.725586  3511.806152\n",
       "2024-03-30  3511.827637  3566.084473  3489.902100  3507.944336\n",
       "\n",
       "[1096 rows x 4 columns]"
      ]
     },
     "execution_count": 45,
     "metadata": {},
     "output_type": "execute_result"
    }
   ],
   "source": [
    "ticker = ['ETH-USD']\n",
    "\n",
    "#-- Collecting 3 years\n",
    "start_date = date.today() + relativedelta(months = - 36)\n",
    "end_date = date.today()\n",
    "\n",
    "#-- 1D ohlcv data collection\n",
    "df_asset = yf.download(ticker, start_date, end_date, interval = '1D')\n",
    "\n",
    "#-- Dropping irrelevant columns\n",
    "df_asset.drop(columns=['Volume', 'Adj Close'], axis = 1, inplace=True)\n",
    "\n",
    "#-- Converting all column names to lowercase\n",
    "df_asset.columns = [x.lower() for x in df_asset.columns ]\n",
    "\n",
    "#-- Previewing\n",
    "df_asset"
   ]
  },
  {
   "cell_type": "markdown",
   "metadata": {},
   "source": [
    "Adding Features & Indicators"
   ]
  },
  {
   "cell_type": "code",
   "execution_count": 46,
   "metadata": {},
   "outputs": [],
   "source": [
    "# df_asset = moving_yngzng_estimator(df_asset)\n",
    "# df_copy = df_asset.copy()\n",
    "# df_copy[f\"kama\"] = ta.momentum.KAMAIndicator(df_copy['close'], 5).kama()\n",
    "df_asset = kaufman_ad_movavg(df_asset, 'close', 5)\n",
    "# df_asset = kama_mkt_regime()"
   ]
  },
  {
   "cell_type": "code",
   "execution_count": 47,
   "metadata": {},
   "outputs": [],
   "source": [
    "df_asset['next_candle'] = df_asset['close'].shift(-1)\n",
    "df_asset['target'] = (df_asset['next_candle'] > df_asset['close']).astype(int)\n"
   ]
  },
  {
   "cell_type": "code",
   "execution_count": 48,
   "metadata": {},
   "outputs": [
    {
     "data": {
      "text/html": [
       "<div>\n",
       "<style scoped>\n",
       "    .dataframe tbody tr th:only-of-type {\n",
       "        vertical-align: middle;\n",
       "    }\n",
       "\n",
       "    .dataframe tbody tr th {\n",
       "        vertical-align: top;\n",
       "    }\n",
       "\n",
       "    .dataframe thead th {\n",
       "        text-align: right;\n",
       "    }\n",
       "</style>\n",
       "<table border=\"1\" class=\"dataframe\">\n",
       "  <thead>\n",
       "    <tr style=\"text-align: right;\">\n",
       "      <th></th>\n",
       "      <th>open</th>\n",
       "      <th>high</th>\n",
       "      <th>low</th>\n",
       "      <th>close</th>\n",
       "      <th>kama_5</th>\n",
       "      <th>next_candle</th>\n",
       "      <th>target</th>\n",
       "    </tr>\n",
       "    <tr>\n",
       "      <th>Date</th>\n",
       "      <th></th>\n",
       "      <th></th>\n",
       "      <th></th>\n",
       "      <th></th>\n",
       "      <th></th>\n",
       "      <th></th>\n",
       "      <th></th>\n",
       "    </tr>\n",
       "  </thead>\n",
       "  <tbody>\n",
       "    <tr>\n",
       "      <th>2021-03-31</th>\n",
       "      <td>1846.098267</td>\n",
       "      <td>1947.837769</td>\n",
       "      <td>1793.002197</td>\n",
       "      <td>1918.362061</td>\n",
       "      <td>NaN</td>\n",
       "      <td>1977.276855</td>\n",
       "      <td>1</td>\n",
       "    </tr>\n",
       "    <tr>\n",
       "      <th>2021-04-01</th>\n",
       "      <td>1919.157227</td>\n",
       "      <td>1989.055054</td>\n",
       "      <td>1912.178467</td>\n",
       "      <td>1977.276855</td>\n",
       "      <td>NaN</td>\n",
       "      <td>2143.225586</td>\n",
       "      <td>1</td>\n",
       "    </tr>\n",
       "    <tr>\n",
       "      <th>2021-04-02</th>\n",
       "      <td>1976.932739</td>\n",
       "      <td>2152.451904</td>\n",
       "      <td>1960.678711</td>\n",
       "      <td>2143.225586</td>\n",
       "      <td>NaN</td>\n",
       "      <td>2028.422485</td>\n",
       "      <td>0</td>\n",
       "    </tr>\n",
       "    <tr>\n",
       "      <th>2021-04-03</th>\n",
       "      <td>2142.895996</td>\n",
       "      <td>2144.962402</td>\n",
       "      <td>2028.422485</td>\n",
       "      <td>2028.422485</td>\n",
       "      <td>NaN</td>\n",
       "      <td>2093.122803</td>\n",
       "      <td>1</td>\n",
       "    </tr>\n",
       "    <tr>\n",
       "      <th>2021-04-04</th>\n",
       "      <td>2027.671265</td>\n",
       "      <td>2110.353516</td>\n",
       "      <td>2007.111816</td>\n",
       "      <td>2093.122803</td>\n",
       "      <td>2093.122803</td>\n",
       "      <td>2107.887207</td>\n",
       "      <td>1</td>\n",
       "    </tr>\n",
       "    <tr>\n",
       "      <th>...</th>\n",
       "      <td>...</td>\n",
       "      <td>...</td>\n",
       "      <td>...</td>\n",
       "      <td>...</td>\n",
       "      <td>...</td>\n",
       "      <td>...</td>\n",
       "      <td>...</td>\n",
       "    </tr>\n",
       "    <tr>\n",
       "      <th>2024-03-26</th>\n",
       "      <td>3591.085205</td>\n",
       "      <td>3678.789795</td>\n",
       "      <td>3545.428711</td>\n",
       "      <td>3587.504883</td>\n",
       "      <td>3518.051885</td>\n",
       "      <td>3500.115234</td>\n",
       "      <td>0</td>\n",
       "    </tr>\n",
       "    <tr>\n",
       "      <th>2024-03-27</th>\n",
       "      <td>3587.313721</td>\n",
       "      <td>3664.383057</td>\n",
       "      <td>3460.393555</td>\n",
       "      <td>3500.115234</td>\n",
       "      <td>3515.822921</td>\n",
       "      <td>3561.293945</td>\n",
       "      <td>1</td>\n",
       "    </tr>\n",
       "    <tr>\n",
       "      <th>2024-03-28</th>\n",
       "      <td>3500.216064</td>\n",
       "      <td>3609.705322</td>\n",
       "      <td>3465.332275</td>\n",
       "      <td>3561.293945</td>\n",
       "      <td>3523.010547</td>\n",
       "      <td>3511.806152</td>\n",
       "      <td>0</td>\n",
       "    </tr>\n",
       "    <tr>\n",
       "      <th>2024-03-29</th>\n",
       "      <td>3561.011719</td>\n",
       "      <td>3583.701416</td>\n",
       "      <td>3475.725586</td>\n",
       "      <td>3511.806152</td>\n",
       "      <td>3522.700084</td>\n",
       "      <td>3507.944336</td>\n",
       "      <td>0</td>\n",
       "    </tr>\n",
       "    <tr>\n",
       "      <th>2024-03-30</th>\n",
       "      <td>3511.827637</td>\n",
       "      <td>3566.084473</td>\n",
       "      <td>3489.902100</td>\n",
       "      <td>3507.944336</td>\n",
       "      <td>3521.302262</td>\n",
       "      <td>NaN</td>\n",
       "      <td>0</td>\n",
       "    </tr>\n",
       "  </tbody>\n",
       "</table>\n",
       "<p>1096 rows × 7 columns</p>\n",
       "</div>"
      ],
      "text/plain": [
       "                   open         high          low        close       kama_5  \\\n",
       "Date                                                                          \n",
       "2021-03-31  1846.098267  1947.837769  1793.002197  1918.362061          NaN   \n",
       "2021-04-01  1919.157227  1989.055054  1912.178467  1977.276855          NaN   \n",
       "2021-04-02  1976.932739  2152.451904  1960.678711  2143.225586          NaN   \n",
       "2021-04-03  2142.895996  2144.962402  2028.422485  2028.422485          NaN   \n",
       "2021-04-04  2027.671265  2110.353516  2007.111816  2093.122803  2093.122803   \n",
       "...                 ...          ...          ...          ...          ...   \n",
       "2024-03-26  3591.085205  3678.789795  3545.428711  3587.504883  3518.051885   \n",
       "2024-03-27  3587.313721  3664.383057  3460.393555  3500.115234  3515.822921   \n",
       "2024-03-28  3500.216064  3609.705322  3465.332275  3561.293945  3523.010547   \n",
       "2024-03-29  3561.011719  3583.701416  3475.725586  3511.806152  3522.700084   \n",
       "2024-03-30  3511.827637  3566.084473  3489.902100  3507.944336  3521.302262   \n",
       "\n",
       "            next_candle  target  \n",
       "Date                             \n",
       "2021-03-31  1977.276855       1  \n",
       "2021-04-01  2143.225586       1  \n",
       "2021-04-02  2028.422485       0  \n",
       "2021-04-03  2093.122803       1  \n",
       "2021-04-04  2107.887207       1  \n",
       "...                 ...     ...  \n",
       "2024-03-26  3500.115234       0  \n",
       "2024-03-27  3561.293945       1  \n",
       "2024-03-28  3511.806152       0  \n",
       "2024-03-29  3507.944336       0  \n",
       "2024-03-30          NaN       0  \n",
       "\n",
       "[1096 rows x 7 columns]"
      ]
     },
     "execution_count": 48,
     "metadata": {},
     "output_type": "execute_result"
    }
   ],
   "source": [
    "df_asset"
   ]
  },
  {
   "cell_type": "code",
   "execution_count": 49,
   "metadata": {},
   "outputs": [
    {
     "data": {
      "text/html": [
       "<style>#sk-container-id-4 {color: black;background-color: white;}#sk-container-id-4 pre{padding: 0;}#sk-container-id-4 div.sk-toggleable {background-color: white;}#sk-container-id-4 label.sk-toggleable__label {cursor: pointer;display: block;width: 100%;margin-bottom: 0;padding: 0.3em;box-sizing: border-box;text-align: center;}#sk-container-id-4 label.sk-toggleable__label-arrow:before {content: \"▸\";float: left;margin-right: 0.25em;color: #696969;}#sk-container-id-4 label.sk-toggleable__label-arrow:hover:before {color: black;}#sk-container-id-4 div.sk-estimator:hover label.sk-toggleable__label-arrow:before {color: black;}#sk-container-id-4 div.sk-toggleable__content {max-height: 0;max-width: 0;overflow: hidden;text-align: left;background-color: #f0f8ff;}#sk-container-id-4 div.sk-toggleable__content pre {margin: 0.2em;color: black;border-radius: 0.25em;background-color: #f0f8ff;}#sk-container-id-4 input.sk-toggleable__control:checked~div.sk-toggleable__content {max-height: 200px;max-width: 100%;overflow: auto;}#sk-container-id-4 input.sk-toggleable__control:checked~label.sk-toggleable__label-arrow:before {content: \"▾\";}#sk-container-id-4 div.sk-estimator input.sk-toggleable__control:checked~label.sk-toggleable__label {background-color: #d4ebff;}#sk-container-id-4 div.sk-label input.sk-toggleable__control:checked~label.sk-toggleable__label {background-color: #d4ebff;}#sk-container-id-4 input.sk-hidden--visually {border: 0;clip: rect(1px 1px 1px 1px);clip: rect(1px, 1px, 1px, 1px);height: 1px;margin: -1px;overflow: hidden;padding: 0;position: absolute;width: 1px;}#sk-container-id-4 div.sk-estimator {font-family: monospace;background-color: #f0f8ff;border: 1px dotted black;border-radius: 0.25em;box-sizing: border-box;margin-bottom: 0.5em;}#sk-container-id-4 div.sk-estimator:hover {background-color: #d4ebff;}#sk-container-id-4 div.sk-parallel-item::after {content: \"\";width: 100%;border-bottom: 1px solid gray;flex-grow: 1;}#sk-container-id-4 div.sk-label:hover label.sk-toggleable__label {background-color: #d4ebff;}#sk-container-id-4 div.sk-serial::before {content: \"\";position: absolute;border-left: 1px solid gray;box-sizing: border-box;top: 0;bottom: 0;left: 50%;z-index: 0;}#sk-container-id-4 div.sk-serial {display: flex;flex-direction: column;align-items: center;background-color: white;padding-right: 0.2em;padding-left: 0.2em;position: relative;}#sk-container-id-4 div.sk-item {position: relative;z-index: 1;}#sk-container-id-4 div.sk-parallel {display: flex;align-items: stretch;justify-content: center;background-color: white;position: relative;}#sk-container-id-4 div.sk-item::before, #sk-container-id-4 div.sk-parallel-item::before {content: \"\";position: absolute;border-left: 1px solid gray;box-sizing: border-box;top: 0;bottom: 0;left: 50%;z-index: -1;}#sk-container-id-4 div.sk-parallel-item {display: flex;flex-direction: column;z-index: 1;position: relative;background-color: white;}#sk-container-id-4 div.sk-parallel-item:first-child::after {align-self: flex-end;width: 50%;}#sk-container-id-4 div.sk-parallel-item:last-child::after {align-self: flex-start;width: 50%;}#sk-container-id-4 div.sk-parallel-item:only-child::after {width: 0;}#sk-container-id-4 div.sk-dashed-wrapped {border: 1px dashed gray;margin: 0 0.4em 0.5em 0.4em;box-sizing: border-box;padding-bottom: 0.4em;background-color: white;}#sk-container-id-4 div.sk-label label {font-family: monospace;font-weight: bold;display: inline-block;line-height: 1.2em;}#sk-container-id-4 div.sk-label-container {text-align: center;}#sk-container-id-4 div.sk-container {/* jupyter's `normalize.less` sets `[hidden] { display: none; }` but bootstrap.min.css set `[hidden] { display: none !important; }` so we also need the `!important` here to be able to override the default hidden behavior on the sphinx rendered scikit-learn.org. See: https://github.com/scikit-learn/scikit-learn/issues/21755 */display: inline-block !important;position: relative;}#sk-container-id-4 div.sk-text-repr-fallback {display: none;}</style><div id=\"sk-container-id-4\" class=\"sk-top-container\"><div class=\"sk-text-repr-fallback\"><pre>RandomForestClassifier(min_samples_split=100, n_estimators=30, random_state=1)</pre><b>In a Jupyter environment, please rerun this cell to show the HTML representation or trust the notebook. <br />On GitHub, the HTML representation is unable to render, please try loading this page with nbviewer.org.</b></div><div class=\"sk-container\" hidden><div class=\"sk-item\"><div class=\"sk-estimator sk-toggleable\"><input class=\"sk-toggleable__control sk-hidden--visually\" id=\"sk-estimator-id-4\" type=\"checkbox\" checked><label for=\"sk-estimator-id-4\" class=\"sk-toggleable__label sk-toggleable__label-arrow\">RandomForestClassifier</label><div class=\"sk-toggleable__content\"><pre>RandomForestClassifier(min_samples_split=100, n_estimators=30, random_state=1)</pre></div></div></div></div></div>"
      ],
      "text/plain": [
       "RandomForestClassifier(min_samples_split=100, n_estimators=30, random_state=1)"
      ]
     },
     "execution_count": 49,
     "metadata": {},
     "output_type": "execute_result"
    }
   ],
   "source": [
    "from sklearn.ensemble import RandomForestClassifier\n",
    "\n",
    "model = RandomForestClassifier(n_estimators = 30, min_samples_split= 100, random_state= 1)\n",
    "train_df = df_asset[:-200]\n",
    "test_df = df_asset[-200:]\n",
    "\n",
    "predictors = ['close', 'open', 'high', 'low']\n",
    "model.fit(train_df[predictors], train_df['target'])"
   ]
  },
  {
   "cell_type": "code",
   "execution_count": 50,
   "metadata": {},
   "outputs": [
    {
     "data": {
      "text/plain": [
       "0.5772357723577236"
      ]
     },
     "execution_count": 50,
     "metadata": {},
     "output_type": "execute_result"
    }
   ],
   "source": [
    "from sklearn.metrics import precision_score\n",
    "\n",
    "predictions = model.predict(test_df[predictors])\n",
    "predictions = pd.Series(predictions, index = test_df.index)\n",
    "precision_score(test_df['target'], predictions)"
   ]
  },
  {
   "cell_type": "code",
   "execution_count": 51,
   "metadata": {},
   "outputs": [
    {
     "data": {
      "text/plain": [
       "<AxesSubplot: xlabel='Date'>"
      ]
     },
     "execution_count": 51,
     "metadata": {},
     "output_type": "execute_result"
    },
    {
     "data": {
      "image/png": "[encoded data removed]",
      "text/plain": [
       "<Figure size 640x480 with 1 Axes>"
      ]
     },
     "metadata": {},
     "output_type": "display_data"
    }
   ],
   "source": [
    "combined = pd.concat([test_df['target'], predictions], axis = 1)\n",
    "combined.plot()"
   ]
  },
  {
   "cell_type": "code",
   "execution_count": 56,
   "metadata": {},
   "outputs": [],
   "source": [
    "def predict(train_df, test_df, predictors, model):\n",
    "    model.fit(train_df[predictors], train_df['target'])\n",
    "    predictions = model.predict(test_df[predictors])\n",
    "    predictions = pd.Series(predictions, index = test_df.index, name = \"predictions\")\n",
    "    combined = pd.concat([test_df['target'], predictions], axis =1)\n",
    "    return combined\n",
    "\n",
    "def backtest(data, model, predictors, start = 90, step = 7):\n",
    "    all_predictions = []\n",
    "    for i in range(start, data.shape[0], step):\n",
    "        train_df = data.iloc[0:i].copy()\n",
    "        test_df = data.iloc[i:(i + step)].copy()\n",
    "        predictions = predict(train_df, test_df, predictors, model)\n",
    "        all_predictions.append(predictions)\n",
    "    return pd.concat(all_predictions)\n",
    "    # return all_predictions"
   ]
  },
  {
   "cell_type": "code",
   "execution_count": 57,
   "metadata": {},
   "outputs": [],
   "source": [
    "pred_x =  ['close', 'open', 'high', 'low']\n",
    "predictions = backtest(df_asset, model, predictors=pred_x)"
   ]
  },
  {
   "cell_type": "code",
   "execution_count": 58,
   "metadata": {},
   "outputs": [
    {
     "data": {
      "text/html": [
       "<div>\n",
       "<style scoped>\n",
       "    .dataframe tbody tr th:only-of-type {\n",
       "        vertical-align: middle;\n",
       "    }\n",
       "\n",
       "    .dataframe tbody tr th {\n",
       "        vertical-align: top;\n",
       "    }\n",
       "\n",
       "    .dataframe thead th {\n",
       "        text-align: right;\n",
       "    }\n",
       "</style>\n",
       "<table border=\"1\" class=\"dataframe\">\n",
       "  <thead>\n",
       "    <tr style=\"text-align: right;\">\n",
       "      <th></th>\n",
       "      <th>target</th>\n",
       "      <th>predictions</th>\n",
       "    </tr>\n",
       "    <tr>\n",
       "      <th>Date</th>\n",
       "      <th></th>\n",
       "      <th></th>\n",
       "    </tr>\n",
       "  </thead>\n",
       "  <tbody>\n",
       "    <tr>\n",
       "      <th>2021-06-29</th>\n",
       "      <td>1</td>\n",
       "      <td>1</td>\n",
       "    </tr>\n",
       "    <tr>\n",
       "      <th>2021-06-30</th>\n",
       "      <td>0</td>\n",
       "      <td>1</td>\n",
       "    </tr>\n",
       "    <tr>\n",
       "      <th>2021-07-01</th>\n",
       "      <td>1</td>\n",
       "      <td>1</td>\n",
       "    </tr>\n",
       "    <tr>\n",
       "      <th>2021-07-02</th>\n",
       "      <td>1</td>\n",
       "      <td>1</td>\n",
       "    </tr>\n",
       "    <tr>\n",
       "      <th>2021-07-03</th>\n",
       "      <td>1</td>\n",
       "      <td>1</td>\n",
       "    </tr>\n",
       "    <tr>\n",
       "      <th>...</th>\n",
       "      <td>...</td>\n",
       "      <td>...</td>\n",
       "    </tr>\n",
       "    <tr>\n",
       "      <th>2024-03-26</th>\n",
       "      <td>0</td>\n",
       "      <td>0</td>\n",
       "    </tr>\n",
       "    <tr>\n",
       "      <th>2024-03-27</th>\n",
       "      <td>1</td>\n",
       "      <td>0</td>\n",
       "    </tr>\n",
       "    <tr>\n",
       "      <th>2024-03-28</th>\n",
       "      <td>0</td>\n",
       "      <td>0</td>\n",
       "    </tr>\n",
       "    <tr>\n",
       "      <th>2024-03-29</th>\n",
       "      <td>0</td>\n",
       "      <td>0</td>\n",
       "    </tr>\n",
       "    <tr>\n",
       "      <th>2024-03-30</th>\n",
       "      <td>0</td>\n",
       "      <td>0</td>\n",
       "    </tr>\n",
       "  </tbody>\n",
       "</table>\n",
       "<p>1006 rows × 2 columns</p>\n",
       "</div>"
      ],
      "text/plain": [
       "            target  predictions\n",
       "Date                           \n",
       "2021-06-29       1            1\n",
       "2021-06-30       0            1\n",
       "2021-07-01       1            1\n",
       "2021-07-02       1            1\n",
       "2021-07-03       1            1\n",
       "...            ...          ...\n",
       "2024-03-26       0            0\n",
       "2024-03-27       1            0\n",
       "2024-03-28       0            0\n",
       "2024-03-29       0            0\n",
       "2024-03-30       0            0\n",
       "\n",
       "[1006 rows x 2 columns]"
      ]
     },
     "execution_count": 58,
     "metadata": {},
     "output_type": "execute_result"
    }
   ],
   "source": [
    "predictions"
   ]
  },
  {
   "cell_type": "code",
   "execution_count": 61,
   "metadata": {},
   "outputs": [
    {
     "data": {
      "text/plain": [
       "0.5311111111111111"
      ]
     },
     "execution_count": 61,
     "metadata": {},
     "output_type": "execute_result"
    }
   ],
   "source": [
    "predictions['predictions'].value_counts()\n",
    "precision_score(predictions['target'], predictions['predictions'])"
   ]
  },
  {
   "cell_type": "code",
   "execution_count": 62,
   "metadata": {},
   "outputs": [
    {
     "data": {
      "text/plain": [
       "1    0.500994\n",
       "0    0.499006\n",
       "Name: target, dtype: float64"
      ]
     },
     "execution_count": 62,
     "metadata": {},
     "output_type": "execute_result"
    }
   ],
   "source": [
    "predictions['target'].value_counts() / predictions.shape[0]"
   ]
  },
  {
   "cell_type": "code",
   "execution_count": null,
   "metadata": {},
   "outputs": [],
   "source": []
  }
 ],
 "metadata": {
  "kernelspec": {
   "display_name": "Python 3",
   "language": "python",
   "name": "python3"
  },
  "language_info": {
   "codemirror_mode": {
    "name": "ipython",
    "version": 3
   },
   "file_extension": ".py",
   "mimetype": "text/x-python",
   "name": "python",
   "nbconvert_exporter": "python",
   "pygments_lexer": "ipython3",
   "version": "3.8.0"
  }
 },
 "nbformat": 4,
 "nbformat_minor": 2
}
